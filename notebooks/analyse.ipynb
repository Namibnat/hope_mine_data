{
 "cells": [
  {
   "cell_type": "markdown",
   "id": "rolled-basic",
   "metadata": {},
   "source": [
    "# Analysis of the data"
   ]
  },
  {
   "cell_type": "code",
   "execution_count": 1,
   "id": "sitting-lighter",
   "metadata": {},
   "outputs": [],
   "source": [
    "import datetime\n",
    "import re\n",
    "\n",
    "%matplotlib inline\n",
    "import pandas as pd\n",
    "import numpy as np\n",
    "import matplotlib.pyplot as plt"
   ]
  },
  {
   "cell_type": "code",
   "execution_count": 3,
   "id": "serious-chuck",
   "metadata": {},
   "outputs": [],
   "source": [
    "df = pd.read_csv('../data/hope_mine_temperature_and_humidity.csv')"
   ]
  },
  {
   "cell_type": "markdown",
   "id": "inner-intervention",
   "metadata": {},
   "source": [
    "## Question 1: What are the columns"
   ]
  },
  {
   "cell_type": "code",
   "execution_count": 4,
   "id": "hollywood-rebecca",
   "metadata": {},
   "outputs": [
    {
     "data": {
      "text/html": [
       "<div>\n",
       "<style scoped>\n",
       "    .dataframe tbody tr th:only-of-type {\n",
       "        vertical-align: middle;\n",
       "    }\n",
       "\n",
       "    .dataframe tbody tr th {\n",
       "        vertical-align: top;\n",
       "    }\n",
       "\n",
       "    .dataframe thead th {\n",
       "        text-align: right;\n",
       "    }\n",
       "</style>\n",
       "<table border=\"1\" class=\"dataframe\">\n",
       "  <thead>\n",
       "    <tr style=\"text-align: right;\">\n",
       "      <th></th>\n",
       "      <th>time</th>\n",
       "      <th>day</th>\n",
       "      <th>month</th>\n",
       "      <th>year</th>\n",
       "      <th>temp_open</th>\n",
       "      <th>temp_top</th>\n",
       "      <th>temp_5m</th>\n",
       "      <th>temp_10m</th>\n",
       "      <th>temp_20m</th>\n",
       "      <th>humidity_open</th>\n",
       "      <th>humidity_top</th>\n",
       "      <th>humidity_5m</th>\n",
       "      <th>humidity_10m</th>\n",
       "      <th>humidity_20m</th>\n",
       "    </tr>\n",
       "  </thead>\n",
       "  <tbody>\n",
       "    <tr>\n",
       "      <th>0</th>\n",
       "      <td>14:30</td>\n",
       "      <td>15</td>\n",
       "      <td>7</td>\n",
       "      <td>2016</td>\n",
       "      <td>28.655</td>\n",
       "      <td>29.116</td>\n",
       "      <td>29.132</td>\n",
       "      <td>26.084</td>\n",
       "      <td>NaN</td>\n",
       "      <td>28.522</td>\n",
       "      <td>27.828</td>\n",
       "      <td>45.301</td>\n",
       "      <td>42.496</td>\n",
       "      <td>NaN</td>\n",
       "    </tr>\n",
       "    <tr>\n",
       "      <th>1</th>\n",
       "      <td>15:00</td>\n",
       "      <td>15</td>\n",
       "      <td>7</td>\n",
       "      <td>2016</td>\n",
       "      <td>24.656</td>\n",
       "      <td>24.117</td>\n",
       "      <td>24.633</td>\n",
       "      <td>24.584</td>\n",
       "      <td>NaN</td>\n",
       "      <td>27.145</td>\n",
       "      <td>25.121</td>\n",
       "      <td>27.816</td>\n",
       "      <td>26.514</td>\n",
       "      <td>NaN</td>\n",
       "    </tr>\n",
       "    <tr>\n",
       "      <th>2</th>\n",
       "      <td>15:30</td>\n",
       "      <td>15</td>\n",
       "      <td>7</td>\n",
       "      <td>2016</td>\n",
       "      <td>24.656</td>\n",
       "      <td>24.117</td>\n",
       "      <td>24.633</td>\n",
       "      <td>24.584</td>\n",
       "      <td>NaN</td>\n",
       "      <td>27.145</td>\n",
       "      <td>25.800</td>\n",
       "      <td>28.481</td>\n",
       "      <td>27.198</td>\n",
       "      <td>NaN</td>\n",
       "    </tr>\n",
       "    <tr>\n",
       "      <th>3</th>\n",
       "      <td>16:00</td>\n",
       "      <td>15</td>\n",
       "      <td>7</td>\n",
       "      <td>2016</td>\n",
       "      <td>24.656</td>\n",
       "      <td>24.117</td>\n",
       "      <td>25.133</td>\n",
       "      <td>25.084</td>\n",
       "      <td>NaN</td>\n",
       "      <td>27.145</td>\n",
       "      <td>27.828</td>\n",
       "      <td>27.148</td>\n",
       "      <td>27.880</td>\n",
       "      <td>NaN</td>\n",
       "    </tr>\n",
       "    <tr>\n",
       "      <th>4</th>\n",
       "      <td>16:30</td>\n",
       "      <td>15</td>\n",
       "      <td>7</td>\n",
       "      <td>2016</td>\n",
       "      <td>25.656</td>\n",
       "      <td>25.117</td>\n",
       "      <td>26.133</td>\n",
       "      <td>25.584</td>\n",
       "      <td>NaN</td>\n",
       "      <td>27.834</td>\n",
       "      <td>28.501</td>\n",
       "      <td>29.146</td>\n",
       "      <td>27.880</td>\n",
       "      <td>NaN</td>\n",
       "    </tr>\n",
       "  </tbody>\n",
       "</table>\n",
       "</div>"
      ],
      "text/plain": [
       "    time  day  month  year  temp_open  temp_top  temp_5m  temp_10m  temp_20m  \\\n",
       "0  14:30   15      7  2016     28.655    29.116   29.132    26.084       NaN   \n",
       "1  15:00   15      7  2016     24.656    24.117   24.633    24.584       NaN   \n",
       "2  15:30   15      7  2016     24.656    24.117   24.633    24.584       NaN   \n",
       "3  16:00   15      7  2016     24.656    24.117   25.133    25.084       NaN   \n",
       "4  16:30   15      7  2016     25.656    25.117   26.133    25.584       NaN   \n",
       "\n",
       "   humidity_open  humidity_top  humidity_5m  humidity_10m  humidity_20m  \n",
       "0         28.522        27.828       45.301        42.496           NaN  \n",
       "1         27.145        25.121       27.816        26.514           NaN  \n",
       "2         27.145        25.800       28.481        27.198           NaN  \n",
       "3         27.145        27.828       27.148        27.880           NaN  \n",
       "4         27.834        28.501       29.146        27.880           NaN  "
      ]
     },
     "execution_count": 4,
     "metadata": {},
     "output_type": "execute_result"
    }
   ],
   "source": [
    "df.head()"
   ]
  },
  {
   "cell_type": "code",
   "execution_count": 5,
   "id": "earlier-counter",
   "metadata": {},
   "outputs": [
    {
     "data": {
      "text/plain": [
       "Index(['time', 'day', 'month', 'year', 'temp_open', 'temp_top', 'temp_5m',\n",
       "       'temp_10m', 'temp_20m', 'humidity_open', 'humidity_top', 'humidity_5m',\n",
       "       'humidity_10m', 'humidity_20m'],\n",
       "      dtype='object')"
      ]
     },
     "execution_count": 5,
     "metadata": {},
     "output_type": "execute_result"
    }
   ],
   "source": [
    "df.columns"
   ]
  },
  {
   "cell_type": "markdown",
   "id": "amended-sharp",
   "metadata": {},
   "source": [
    "## Data: Question 1\n",
    "\n",
    "We have columns for the time and dates.  Then we have columns for the temperature and columns for the humidity.\n",
    "\n",
    "The data was collected at the unused Hope Mine in the Central Namib Desert, in Namibia.  It is basically a hole in the ground.  So we can see that the measurements for the temperature and humidity were taken outside the mine, at the opening, 5, 10 and 20 meters into the mine.\n",
    "\n",
    "- time\n",
    "- day\n",
    "- month\n",
    "- year\n",
    "- temp_open\n",
    "- temp_top\n",
    "- temp_5m\n",
    "- temp_10m\n",
    "- temp_20m\n",
    "- humidity_open\n",
    "- humidity_top\n",
    "- humidity_5m\n",
    "- humidity_10m\n",
    "- humidity_20m\n"
   ]
  },
  {
   "cell_type": "markdown",
   "id": "verified-vessel",
   "metadata": {},
   "source": [
    "## Question 2: Over what period of time?"
   ]
  },
  {
   "cell_type": "code",
   "execution_count": 6,
   "id": "quiet-connectivity",
   "metadata": {},
   "outputs": [
    {
     "data": {
      "text/plain": [
       "(19294, 14)"
      ]
     },
     "execution_count": 6,
     "metadata": {},
     "output_type": "execute_result"
    }
   ],
   "source": [
    "df.shape"
   ]
  },
  {
   "cell_type": "code",
   "execution_count": 7,
   "id": "august-listening",
   "metadata": {},
   "outputs": [
    {
     "data": {
      "text/plain": [
       "day        15\n",
       "month       7\n",
       "year     2016\n",
       "Name: 0, dtype: object"
      ]
     },
     "execution_count": 7,
     "metadata": {},
     "output_type": "execute_result"
    }
   ],
   "source": [
    "df.loc[0, ['day', 'month', 'year']]"
   ]
  },
  {
   "cell_type": "code",
   "execution_count": 8,
   "id": "agricultural-logistics",
   "metadata": {},
   "outputs": [
    {
     "data": {
      "text/plain": [
       "day        21\n",
       "month       8\n",
       "year     2017\n",
       "Name: 19293, dtype: object"
      ]
     },
     "execution_count": 8,
     "metadata": {},
     "output_type": "execute_result"
    }
   ],
   "source": [
    "df.loc[df.shape[0]-1, ['day', 'month', 'year']]"
   ]
  },
  {
   "cell_type": "markdown",
   "id": "continental-compensation",
   "metadata": {},
   "source": [
    "## Data: Question 2\n",
    "\n",
    "We have columns for the time and dates. Then we have columns for the temperature and columns for the humidity.\n",
    "\n",
    "The data was collected at the unused Hope Mine in the Central Namib Desert, in Namibia. It is basically a hole in the ground. So we can see that the measurements for the temperature and humidity were taken outside the mine, at the opening, 5, 10 and 20 meters into the mine.\n",
    "\n",
    "- time - Measurements were taken 2 times per hours, which were rounded to the top of the hour and half-past\n",
    "- day, month, year - Range from 15 July 2016 to 21 August 2017\n",
    "- temp_open\n",
    "- temp_top\n",
    "- temp_5m\n",
    "- temp_10m\n",
    "- temp_20m\n",
    "- humidity_open\n",
    "- humidity_top\n",
    "- humidity_5m\n",
    "- humidity_10m\n",
    "- humidity_20m\n"
   ]
  },
  {
   "cell_type": "markdown",
   "id": "ignored-evanescence",
   "metadata": {},
   "source": [
    "## Question 3: How does time of day affect the data"
   ]
  },
  {
   "cell_type": "markdown",
   "id": "blank-feedback",
   "metadata": {},
   "source": [
    "### Temperature means based on the time of day\n",
    "\n",
    "The below graph shows the average temperature through the main time points through the day, averaged over the year.\n",
    "\n",
    "The temperatures are show for all five measurement points: outside, at the opening, 5 meters, 10 meters and 20 meters into the mine."
   ]
  },
  {
   "cell_type": "code",
   "execution_count": 9,
   "id": "alert-tower",
   "metadata": {},
   "outputs": [],
   "source": [
    "# 'temp_open', 'temp_top', 'temp_5m', 'temp_10m', 'temp_20m'\n",
    "\n",
    "temp_outside_by_time = df.groupby(df['time'])['temp_open'].agg({lambda x: x.mean(skipna=False)})\n",
    "temp_top_by_time = df.groupby(df['time'])['temp_top'].agg({lambda x: x.mean(skipna=False)})\n",
    "temp_5m_by_time = df.groupby(df['time'])['temp_5m'].agg({lambda x: x.mean(skipna=True)})\n",
    "temp_10m_by_time = df.groupby(df['time'])['temp_10m'].agg({lambda x: x.mean(skipna=False)})\n",
    "temp_20m_by_time = df.groupby(df['time'])['temp_20m'].agg({lambda x: x.mean(skipna=True)})"
   ]
  },
  {
   "cell_type": "code",
   "execution_count": 10,
   "id": "unavailable-terrace",
   "metadata": {},
   "outputs": [
    {
     "data": {
      "image/png": "[encoded data removed]",
      "text/plain": [
       "<Figure size 1080x576 with 1 Axes>"
      ]
     },
     "metadata": {
      "needs_background": "light"
     },
     "output_type": "display_data"
    }
   ],
   "source": [
    "fig, ax = plt.subplots(figsize=(15, 8))\n",
    "_ = ax.plot(temp_outside_by_time, color='yellow', label='Outside Temp')\n",
    "_ = ax.plot(temp_top_by_time, color='blue', label='Top Temp')\n",
    "_ = ax.plot(temp_5m_by_time, color='red', label='Temp 5 meters into mine')\n",
    "_ = ax.plot(temp_10m_by_time, color='purple', label='Temp 10 meters into mine')\n",
    "_ = ax.plot(temp_20m_by_time, color='black', label='Temp 20 meters into mine')\n",
    "_ = ax.set_xticks([f'{str(h).zfill(2)}:00' for h in range(0, 24, 2)])\n",
    "_ = ax.set_yticks([t for t in range(10, 50, 10)])\n",
    "_ = ax.set_title(\"Mean temparature at varying depths, to time of day\")\n",
    "_ = ax.legend()"
   ]
  },
  {
   "cell_type": "code",
   "execution_count": 11,
   "id": "attempted-automation",
   "metadata": {},
   "outputs": [
    {
     "data": {
      "text/plain": [
       "<lambda>    15.0\n",
       "dtype: float64"
      ]
     },
     "execution_count": 11,
     "metadata": {},
     "output_type": "execute_result"
    }
   ],
   "source": [
    "# Max average for outside\n",
    "df.groupby(df['time'])['temp_open'].agg({lambda x: x.mean(skipna=False)}).agg(lambda z: round(z.min(), 0))"
   ]
  },
  {
   "cell_type": "code",
   "execution_count": 12,
   "id": "temporal-worship",
   "metadata": {},
   "outputs": [
    {
     "data": {
      "text/plain": [
       "<lambda>    33.0\n",
       "dtype: float64"
      ]
     },
     "execution_count": 12,
     "metadata": {},
     "output_type": "execute_result"
    }
   ],
   "source": [
    "# Mim average for outside\n",
    "df.groupby(df['time'])['temp_open'].agg({lambda x: x.mean(skipna=False)}).agg(lambda z: round(z.max(), 0))"
   ]
  },
  {
   "cell_type": "code",
   "execution_count": 13,
   "id": "internal-qualification",
   "metadata": {},
   "outputs": [
    {
     "data": {
      "text/plain": [
       "<lambda>    25.0\n",
       "dtype: float64"
      ]
     },
     "execution_count": 13,
     "metadata": {},
     "output_type": "execute_result"
    }
   ],
   "source": [
    "# Mim average for top\n",
    "df.groupby(df['time'])['temp_top'].agg({lambda x: x.mean(skipna=False)}).agg(lambda z: round(z.min(), 0))"
   ]
  },
  {
   "cell_type": "code",
   "execution_count": 14,
   "id": "critical-highway",
   "metadata": {},
   "outputs": [
    {
     "data": {
      "text/plain": [
       "<lambda>    26.0\n",
       "dtype: float64"
      ]
     },
     "execution_count": 14,
     "metadata": {},
     "output_type": "execute_result"
    }
   ],
   "source": [
    "# Min average for 5 meters into the mine.\n",
    "df.groupby(df['time'])['temp_5m'].agg({lambda x: x.mean(skipna=True)}).agg(lambda z: round(z.min(), 0))"
   ]
  },
  {
   "cell_type": "code",
   "execution_count": 15,
   "id": "external-coaching",
   "metadata": {},
   "outputs": [
    {
     "data": {
      "text/plain": [
       "<lambda>    28.0\n",
       "dtype: float64"
      ]
     },
     "execution_count": 15,
     "metadata": {},
     "output_type": "execute_result"
    }
   ],
   "source": [
    "# Max average for 5 meters into the mine.\n",
    "df.groupby(df['time'])['temp_5m'].agg({lambda x: x.mean(skipna=True)}).agg(lambda z: round(z.max(), 0))"
   ]
  },
  {
   "cell_type": "code",
   "execution_count": 16,
   "id": "assisted-champion",
   "metadata": {},
   "outputs": [
    {
     "data": {
      "text/plain": [
       "<lambda>    27.0\n",
       "dtype: float64"
      ]
     },
     "execution_count": 16,
     "metadata": {},
     "output_type": "execute_result"
    }
   ],
   "source": [
    "# Average average temparatures meters into the mine.\n",
    "# This is really just the overall average\n",
    "df.groupby(df['time'])['temp_5m'].agg({lambda x: x.mean(skipna=True)}).agg(lambda z: round(z.mean(), 0))"
   ]
  },
  {
   "cell_type": "markdown",
   "id": "buried-outreach",
   "metadata": {},
   "source": [
    "### Humidity means based on the time of day\n",
    "\n",
    "The below graph shows the average humidity through the main time points through the day, averaged over the year.\n",
    "\n",
    "The humidity are show for all five measurement points: outside, at the opening, 5 meters, 10 meters and 20 meters into the mine."
   ]
  },
  {
   "cell_type": "code",
   "execution_count": 17,
   "id": "union-invite",
   "metadata": {},
   "outputs": [],
   "source": [
    "# 'humidity_open', 'humidity_top', 'humidity_5m', 'humidity_10m', 'humidity_20m'\n",
    "\n",
    "humidity_outside_by_time = df.groupby(df['time'])['humidity_open'].agg({lambda x: x.mean(skipna=False)})\n",
    "humidity_top_by_time = df.groupby(df['time'])['humidity_top'].agg({lambda x: x.mean(skipna=False)})\n",
    "humidity_5m_by_time = df.groupby(df['time'])['humidity_5m'].agg({lambda x: x.mean(skipna=True)})\n",
    "humidity_10m_by_time = df.groupby(df['time'])['humidity_10m'].agg({lambda x: x.mean(skipna=False)})\n",
    "humidity_20m_by_time = df.groupby(df['time'])['humidity_20m'].agg({lambda x: x.mean(skipna=True)})"
   ]
  },
  {
   "cell_type": "code",
   "execution_count": 18,
   "id": "logical-current",
   "metadata": {},
   "outputs": [
    {
     "data": {
      "image/png": "[encoded data removed]",
      "text/plain": [
       "<Figure size 1080x576 with 1 Axes>"
      ]
     },
     "metadata": {
      "needs_background": "light"
     },
     "output_type": "display_data"
    }
   ],
   "source": [
    "fig, ax = plt.subplots(figsize=(15, 8))\n",
    "_ = ax.plot(humidity_outside_by_time, color='yellow', label='Outside Humidity')\n",
    "_ = ax.plot(humidity_top_by_time, color='blue', label='Top Humidity')\n",
    "_ = ax.plot(humidity_5m_by_time, color='red', label='Humidity 5 meters into mine')\n",
    "_ = ax.plot(humidity_10m_by_time, color='purple', label='Humidity 10 meters into mine')\n",
    "_ = ax.plot(humidity_20m_by_time, color='black', label='Humidity 20 meters into mine')\n",
    "_ = ax.set_xticks([f'{str(h).zfill(2)}:00' for h in range(0, 24, 2)])\n",
    "_ = ax.set_title(\"Mean humidity at varying depths, to time of day\")\n",
    "_ = ax.legend()"
   ]
  },
  {
   "cell_type": "code",
   "execution_count": 19,
   "id": "forward-butter",
   "metadata": {},
   "outputs": [
    {
     "data": {
      "text/plain": [
       "humidity_open    106.867\n",
       "humidity_top     101.385\n",
       "humidity_5m      105.541\n",
       "humidity_10m      85.186\n",
       "humidity_20m      82.401\n",
       "dtype: float64"
      ]
     },
     "execution_count": 19,
     "metadata": {},
     "output_type": "execute_result"
    }
   ],
   "source": [
    "humidity_columns = ['humidity_open', 'humidity_top', 'humidity_5m', 'humidity_10m', 'humidity_20m']\n",
    "df.loc[:, [*humidity_columns]].max()"
   ]
  },
  {
   "cell_type": "code",
   "execution_count": 20,
   "id": "copyrighted-underground",
   "metadata": {},
   "outputs": [
    {
     "data": {
      "text/plain": [
       "humidity_open   -37.562\n",
       "humidity_top      4.818\n",
       "humidity_5m      12.118\n",
       "humidity_10m     13.953\n",
       "humidity_20m     17.706\n",
       "dtype: float64"
      ]
     },
     "execution_count": 20,
     "metadata": {},
     "output_type": "execute_result"
    }
   ],
   "source": [
    "df.loc[:, [*humidity_columns]].min()"
   ]
  },
  {
   "cell_type": "code",
   "execution_count": 21,
   "id": "dirty-first",
   "metadata": {},
   "outputs": [
    {
     "data": {
      "text/plain": [
       "254"
      ]
     },
     "execution_count": 21,
     "metadata": {},
     "output_type": "execute_result"
    }
   ],
   "source": [
    "df.loc[df['humidity_open'] > 100]['humidity_open'].count()"
   ]
  },
  {
   "cell_type": "code",
   "execution_count": 22,
   "id": "hispanic-empire",
   "metadata": {},
   "outputs": [
    {
     "data": {
      "text/plain": [
       "10"
      ]
     },
     "execution_count": 22,
     "metadata": {},
     "output_type": "execute_result"
    }
   ],
   "source": [
    "df.loc[df['humidity_open'] < 0]['humidity_open'].count()"
   ]
  },
  {
   "cell_type": "markdown",
   "id": "weighted-window",
   "metadata": {},
   "source": [
    "## Data: Question 3\n",
    "\n",
    "We have columns for the time and dates. Then we have columns for the temperature and columns for the humidity.\n",
    "\n",
    "The data was collected at the unused Hope Mine in the Central Namib Desert, in Namibia. It is basically a hole in the ground. So we can see that the measurements for the temperature and humidity were taken outside the mine, at the opening, 5, 10 and 20 meters into the mine.\n",
    "\n",
    "### time\n",
    "\n",
    "Measurements were taken 2 times per hours, which were rounded to the top of the hour and half-past\n",
    "\n",
    "### day, month, year\n",
    "\n",
    "Range from 15 July 2016 to 21 August 2017\n",
    "\n",
    "### temp_open\n",
    " - By time of day: The average temperature dropped to a low, around 15°C, soon after six o'clock in the morning, and then rose sharply through the day.  It would peak just after 14:00 at around 33°C.\n",
    "\n",
    "### temp_top\n",
    " - By time of day: At the top of the mine, temperatures rose roughly the same as the outside temperatures, but the minimums were significantly higher, at 25°C.\n",
    "\n",
    "### temp_5m\n",
    " - By time of day: At a depth of 5 meters, there was very little change.  The low as at 26°C and the max was at 28°C.\n",
    "\n",
    "### temp_10m\n",
    " - By time of day: At 10 meters down there was close to a 27°C daily average with very little difference throughout the day.\n",
    "\n",
    "### temp_20m\n",
    " - By time of day: At a very similar temperature to 10 meters in, at 20 meters there was even less daily variation.\n",
    "\n",
    "### humidity_open\n",
    " - By time of day: The data here is a little strange, as we seem to have a range from -37.562 to 106.867.  Since this is meant to be a percentage, we shouldn't be getting these values, and it calls into question the usefulness of the humidity data overall.  There were 254 recordings over 100, and 10 below zero, though the value at -37 was a big outlier.  That said, just looking at the trend, just in case it is meaningful, we see a clear trend where outide humidity rose high in the night to some time before morning, and then dropped steeply about two hours after midday.\n",
    "\n",
    "### humidity_top\n",
    " - By time of day: Due to the questions about the data raised by the \"humidity open\" values, this one might also be questionable, but it also shows in interesting trend.  Here we see way less of a midday drop than the outside, but in general, it trends the same as the open humidity.\n",
    "\n",
    "### humidity_5m\n",
    " - By time of day: Again, questionable data, but we see a similar, but muted trend to the data at the top of the mine and in the open.  The humidity at 5 meters varies the least through the day.\n",
    "\n",
    "### humidity_10m\n",
    " - By time of day: Here, strangely, we see an opposite trend to what we see in the daytime.\n",
    "\n",
    "### humidity_20m\n",
    " - By time of day: Like the humidity at 10 meters, it goes up in the daytime.  The humidity at this depth remains higher than the rest of the values, showing that the desert surface humidity has little influence down to this depth.\n",
    "\n"
   ]
  },
  {
   "cell_type": "code",
   "execution_count": null,
   "id": "eastern-maldives",
   "metadata": {},
   "outputs": [],
   "source": []
  },
  {
   "cell_type": "code",
   "execution_count": null,
   "id": "supposed-covering",
   "metadata": {},
   "outputs": [],
   "source": []
  },
  {
   "cell_type": "code",
   "execution_count": null,
   "id": "special-school",
   "metadata": {},
   "outputs": [],
   "source": []
  },
  {
   "cell_type": "code",
   "execution_count": null,
   "id": "professional-mercury",
   "metadata": {},
   "outputs": [],
   "source": []
  },
  {
   "cell_type": "code",
   "execution_count": null,
   "id": "improving-bacon",
   "metadata": {},
   "outputs": [],
   "source": []
  },
  {
   "cell_type": "code",
   "execution_count": null,
   "id": "universal-action",
   "metadata": {},
   "outputs": [],
   "source": []
  },
  {
   "cell_type": "code",
   "execution_count": null,
   "id": "transparent-mauritius",
   "metadata": {},
   "outputs": [],
   "source": []
  }
 ],
 "metadata": {
  "kernelspec": {
   "display_name": "Python 3",
   "language": "python",
   "name": "python3"
  },
  "language_info": {
   "codemirror_mode": {
    "name": "ipython",
    "version": 3
   },
   "file_extension": ".py",
   "mimetype": "text/x-python",
   "name": "python",
   "nbconvert_exporter": "python",
   "pygments_lexer": "ipython3",
   "version": "3.9.2"
  }
 },
 "nbformat": 4,
 "nbformat_minor": 5
}
