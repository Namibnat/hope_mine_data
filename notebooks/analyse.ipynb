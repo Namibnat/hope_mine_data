{
 "cells": [
  {
   "cell_type": "markdown",
   "id": "naughty-imaging",
   "metadata": {},
   "source": [
    "# Analysis of the data"
   ]
  },
  {
   "cell_type": "code",
   "execution_count": 1,
   "id": "sacred-oxide",
   "metadata": {},
   "outputs": [],
   "source": [
    "%matplotlib inline\n",
    "import pandas as pd\n",
    "import numpy as np\n",
    "import matplotlib.pyplot as plt"
   ]
  },
  {
   "cell_type": "code",
   "execution_count": 6,
   "id": "empirical-university",
   "metadata": {},
   "outputs": [],
   "source": [
    "df = pd.read_csv('../data/hope_mine_temparature_and_humidity.csv')"
   ]
  },
  {
   "cell_type": "markdown",
   "id": "private-circulation",
   "metadata": {},
   "source": [
    "## Question 1: What are the columns"
   ]
  },
  {
   "cell_type": "code",
   "execution_count": 7,
   "id": "logical-baker",
   "metadata": {},
   "outputs": [
    {
     "data": {
      "text/html": [
       "<div>\n",
       "<style scoped>\n",
       "    .dataframe tbody tr th:only-of-type {\n",
       "        vertical-align: middle;\n",
       "    }\n",
       "\n",
       "    .dataframe tbody tr th {\n",
       "        vertical-align: top;\n",
       "    }\n",
       "\n",
       "    .dataframe thead th {\n",
       "        text-align: right;\n",
       "    }\n",
       "</style>\n",
       "<table border=\"1\" class=\"dataframe\">\n",
       "  <thead>\n",
       "    <tr style=\"text-align: right;\">\n",
       "      <th></th>\n",
       "      <th>time</th>\n",
       "      <th>day</th>\n",
       "      <th>month</th>\n",
       "      <th>year</th>\n",
       "      <th>temp_open</th>\n",
       "      <th>temp_top</th>\n",
       "      <th>temp_5m</th>\n",
       "      <th>temp_10m</th>\n",
       "      <th>temp_20m</th>\n",
       "      <th>humidity_open</th>\n",
       "      <th>humidity_top</th>\n",
       "      <th>humidity_5m</th>\n",
       "      <th>humidity_10m</th>\n",
       "      <th>humidity_20m</th>\n",
       "    </tr>\n",
       "  </thead>\n",
       "  <tbody>\n",
       "    <tr>\n",
       "      <th>0</th>\n",
       "      <td>14:35:01</td>\n",
       "      <td>15</td>\n",
       "      <td>7</td>\n",
       "      <td>2016</td>\n",
       "      <td>28.655</td>\n",
       "      <td>29.116</td>\n",
       "      <td>29.132</td>\n",
       "      <td>26.084</td>\n",
       "      <td>NaN</td>\n",
       "      <td>28.522</td>\n",
       "      <td>27.828</td>\n",
       "      <td>45.301</td>\n",
       "      <td>42.496</td>\n",
       "      <td>NaN</td>\n",
       "    </tr>\n",
       "    <tr>\n",
       "      <th>1</th>\n",
       "      <td>15:05:01</td>\n",
       "      <td>15</td>\n",
       "      <td>7</td>\n",
       "      <td>2016</td>\n",
       "      <td>24.656</td>\n",
       "      <td>24.117</td>\n",
       "      <td>24.633</td>\n",
       "      <td>24.584</td>\n",
       "      <td>NaN</td>\n",
       "      <td>27.145</td>\n",
       "      <td>25.121</td>\n",
       "      <td>27.816</td>\n",
       "      <td>26.514</td>\n",
       "      <td>NaN</td>\n",
       "    </tr>\n",
       "    <tr>\n",
       "      <th>2</th>\n",
       "      <td>15:35:01</td>\n",
       "      <td>15</td>\n",
       "      <td>7</td>\n",
       "      <td>2016</td>\n",
       "      <td>24.656</td>\n",
       "      <td>24.117</td>\n",
       "      <td>24.633</td>\n",
       "      <td>24.584</td>\n",
       "      <td>NaN</td>\n",
       "      <td>27.145</td>\n",
       "      <td>25.800</td>\n",
       "      <td>28.481</td>\n",
       "      <td>27.198</td>\n",
       "      <td>NaN</td>\n",
       "    </tr>\n",
       "    <tr>\n",
       "      <th>3</th>\n",
       "      <td>16:05:01</td>\n",
       "      <td>15</td>\n",
       "      <td>7</td>\n",
       "      <td>2016</td>\n",
       "      <td>24.656</td>\n",
       "      <td>24.117</td>\n",
       "      <td>25.133</td>\n",
       "      <td>25.084</td>\n",
       "      <td>NaN</td>\n",
       "      <td>27.145</td>\n",
       "      <td>27.828</td>\n",
       "      <td>27.148</td>\n",
       "      <td>27.880</td>\n",
       "      <td>NaN</td>\n",
       "    </tr>\n",
       "    <tr>\n",
       "      <th>4</th>\n",
       "      <td>16:35:01</td>\n",
       "      <td>15</td>\n",
       "      <td>7</td>\n",
       "      <td>2016</td>\n",
       "      <td>25.656</td>\n",
       "      <td>25.117</td>\n",
       "      <td>26.133</td>\n",
       "      <td>25.584</td>\n",
       "      <td>NaN</td>\n",
       "      <td>27.834</td>\n",
       "      <td>28.501</td>\n",
       "      <td>29.146</td>\n",
       "      <td>27.880</td>\n",
       "      <td>NaN</td>\n",
       "    </tr>\n",
       "  </tbody>\n",
       "</table>\n",
       "</div>"
      ],
      "text/plain": [
       "       time  day  month  year  temp_open  temp_top  temp_5m  temp_10m  \\\n",
       "0  14:35:01   15      7  2016     28.655    29.116   29.132    26.084   \n",
       "1  15:05:01   15      7  2016     24.656    24.117   24.633    24.584   \n",
       "2  15:35:01   15      7  2016     24.656    24.117   24.633    24.584   \n",
       "3  16:05:01   15      7  2016     24.656    24.117   25.133    25.084   \n",
       "4  16:35:01   15      7  2016     25.656    25.117   26.133    25.584   \n",
       "\n",
       "   temp_20m  humidity_open  humidity_top  humidity_5m  humidity_10m  \\\n",
       "0       NaN         28.522        27.828       45.301        42.496   \n",
       "1       NaN         27.145        25.121       27.816        26.514   \n",
       "2       NaN         27.145        25.800       28.481        27.198   \n",
       "3       NaN         27.145        27.828       27.148        27.880   \n",
       "4       NaN         27.834        28.501       29.146        27.880   \n",
       "\n",
       "   humidity_20m  \n",
       "0           NaN  \n",
       "1           NaN  \n",
       "2           NaN  \n",
       "3           NaN  \n",
       "4           NaN  "
      ]
     },
     "execution_count": 7,
     "metadata": {},
     "output_type": "execute_result"
    }
   ],
   "source": [
    "df.head()"
   ]
  },
  {
   "cell_type": "code",
   "execution_count": 17,
   "id": "composed-tolerance",
   "metadata": {},
   "outputs": [
    {
     "data": {
      "text/plain": [
       "Index(['time', 'day', 'month', 'year', 'temp_open', 'temp_top', 'temp_5m',\n",
       "       'temp_10m', 'temp_20m', 'humidity_open', 'humidity_top', 'humidity_5m',\n",
       "       'humidity_10m', 'humidity_20m'],\n",
       "      dtype='object')"
      ]
     },
     "execution_count": 17,
     "metadata": {},
     "output_type": "execute_result"
    }
   ],
   "source": [
    "df.columns"
   ]
  },
  {
   "cell_type": "markdown",
   "id": "great-auction",
   "metadata": {},
   "source": [
    "## Data: Question 1\n",
    "\n",
    "We have columns for the time and dates.  Then we have columns for the temparature and columns for the humidity.\n",
    "\n",
    "The data was collected at the unused Hope Mine in the Central Namib Desert, in Namibia.  It is basically a hole in the ground.  So we can see that the measurements for the temparature and humidity were taken outside the mine, at the opening, 5, 10 and 20 meters into the mine.\n",
    "\n",
    "- time\n",
    "- day\n",
    "- month\n",
    "- year\n",
    "- temp_open\n",
    "- temp_top\n",
    "- temp_5m\n",
    "- temp_10m\n",
    "- temp_20m\n",
    "- humidity_open\n",
    "- humidity_top\n",
    "- humidity_5m\n",
    "- humidity_10m\n",
    "- humidity_20m\n"
   ]
  },
  {
   "cell_type": "markdown",
   "id": "coupled-picking",
   "metadata": {},
   "source": [
    "## Question 2: Over what period of time?"
   ]
  },
  {
   "cell_type": "code",
   "execution_count": 19,
   "id": "sound-shark",
   "metadata": {},
   "outputs": [
    {
     "data": {
      "text/plain": [
       "(19294, 14)"
      ]
     },
     "execution_count": 19,
     "metadata": {},
     "output_type": "execute_result"
    }
   ],
   "source": [
    "df.shape"
   ]
  },
  {
   "cell_type": "code",
   "execution_count": 25,
   "id": "adjusted-hospital",
   "metadata": {},
   "outputs": [
    {
     "data": {
      "text/plain": [
       "day        15\n",
       "month       7\n",
       "year     2016\n",
       "Name: 0, dtype: object"
      ]
     },
     "execution_count": 25,
     "metadata": {},
     "output_type": "execute_result"
    }
   ],
   "source": [
    "df.loc[0, ['day', 'month', 'year']]"
   ]
  },
  {
   "cell_type": "code",
   "execution_count": 26,
   "id": "graphic-sessions",
   "metadata": {},
   "outputs": [
    {
     "data": {
      "text/plain": [
       "day        21\n",
       "month       8\n",
       "year     2017\n",
       "Name: 19293, dtype: object"
      ]
     },
     "execution_count": 26,
     "metadata": {},
     "output_type": "execute_result"
    }
   ],
   "source": [
    "df.loc[df.shape[0]-1, ['day', 'month', 'year']]"
   ]
  },
  {
   "cell_type": "markdown",
   "id": "corporate-microphone",
   "metadata": {},
   "source": [
    "## Data: Question 2\n",
    "\n",
    "We have columns for the time and dates. Then we have columns for the temparature and columns for the humidity.\n",
    "\n",
    "The data was collected at the unused Hope Mine in the Central Namib Desert, in Namibia. It is basically a hole in the ground. So we can see that the measurements for the temparature and humidity were taken outside the mine, at the opening, 5, 10 and 20 meters into the mine.\n",
    "\n",
    "- time\n",
    "- day, month, year - Range from 15 July 2016 to 21 August 2017\n",
    "- temp_open\n",
    "- temp_top\n",
    "- temp_5m\n",
    "- temp_10m\n",
    "- temp_20m\n",
    "- humidity_open\n",
    "- humidity_top\n",
    "- humidity_5m\n",
    "- humidity_10m\n",
    "- humidity_20m\n"
   ]
  },
  {
   "cell_type": "markdown",
   "id": "worse-research",
   "metadata": {},
   "source": [
    "## Question 3: What are the time blocks.  How often was the data sampled"
   ]
  },
  {
   "cell_type": "code",
   "execution_count": 29,
   "id": "disciplinary-preview",
   "metadata": {},
   "outputs": [],
   "source": [
    "time = df['time']"
   ]
  },
  {
   "cell_type": "code",
   "execution_count": 45,
   "id": "future-desktop",
   "metadata": {},
   "outputs": [
    {
     "data": {
      "text/plain": [
       "726"
      ]
     },
     "execution_count": 45,
     "metadata": {},
     "output_type": "execute_result"
    }
   ],
   "source": [
    "len(time.unique())"
   ]
  },
  {
   "cell_type": "code",
   "execution_count": null,
   "id": "accredited-helmet",
   "metadata": {},
   "outputs": [],
   "source": []
  }
 ],
 "metadata": {
  "kernelspec": {
   "display_name": "Python 3",
   "language": "python",
   "name": "python3"
  },
  "language_info": {
   "codemirror_mode": {
    "name": "ipython",
    "version": 3
   },
   "file_extension": ".py",
   "mimetype": "text/x-python",
   "name": "python",
   "nbconvert_exporter": "python",
   "pygments_lexer": "ipython3",
   "version": "3.9.2"
  }
 },
 "nbformat": 4,
 "nbformat_minor": 5
}
